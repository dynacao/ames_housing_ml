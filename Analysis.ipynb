{
 "cells": [
  {
   "cell_type": "code",
   "execution_count": 110,
   "metadata": {},
   "outputs": [],
   "source": [
    "import matplotlib.pyplot as plt\n",
    "import numpy  as np\n",
    "import pandas as pd\n",
    "from sklearn.linear_model import LinearRegression, Ridge, Lasso, ElasticNet\n",
    "from sklearn.impute import SimpleImputer\n",
    "from sklearn.tree import DecisionTreeRegressor\n",
    "from sklearn.ensemble import RandomForestRegressor\n",
    "from sklearn.model_selection import cross_val_score, cross_val_predict,cross_validate, GridSearchCV"
   ]
  },
  {
   "cell_type": "code",
   "execution_count": 3,
   "metadata": {},
   "outputs": [
    {
     "name": "stderr",
     "output_type": "stream",
     "text": [
      "D:\\software\\Anaconda\\lib\\site-packages\\IPython\\core\\interactiveshell.py:3146: DtypeWarning: Columns (36,40,81,87) have mixed types.Specify dtype option on import or set low_memory=False.\n",
      "  interactivity=interactivity, compiler=compiler, result=result)\n"
     ]
    }
   ],
   "source": [
    "housing = pd.read_csv('../data/Ames_Housing_Price_Data.csv', index_col = 0)\n",
    "real_estate = pd.read_csv('../data/Ames_Real_Estate_Data.csv', index_col = 0)"
   ]
  },
  {
   "cell_type": "code",
   "execution_count": 4,
   "metadata": {},
   "outputs": [
    {
     "data": {
      "text/plain": [
       "PID             -0.226276\n",
       "EnclosedPorch   -0.123235\n",
       "KitchenAbvGr    -0.113977\n",
       "OverallCond     -0.101091\n",
       "MSSubClass      -0.084587\n",
       "BsmtHalfBath    -0.033802\n",
       "LowQualFinSF    -0.030835\n",
       "MiscVal         -0.018877\n",
       "YrSold          -0.001376\n",
       "MoSold           0.012591\n",
       "BsmtFinSF2       0.022520\n",
       "PoolArea         0.030844\n",
       "3SsnPorch        0.031260\n",
       "ScreenPorch      0.121463\n",
       "BedroomAbvGr     0.151806\n",
       "BsmtUnfSF        0.167519\n",
       "2ndFlrSF         0.263144\n",
       "LotArea          0.274443\n",
       "HalfBath         0.285875\n",
       "BsmtFullBath     0.291080\n",
       "OpenPorchSF      0.306540\n",
       "WoodDeckSF       0.333232\n",
       "LotFrontage      0.358577\n",
       "BsmtFinSF1       0.460792\n",
       "Fireplaces       0.488184\n",
       "TotRmsAbvGrd     0.490219\n",
       "MasVnrArea       0.500964\n",
       "YearRemodAdd     0.514309\n",
       "GarageYrBlt      0.520763\n",
       "FullBath         0.534982\n",
       "YearBuilt        0.544370\n",
       "GarageArea       0.634992\n",
       "GarageCars       0.638801\n",
       "1stFlrSF         0.642613\n",
       "TotalBsmtSF      0.652222\n",
       "GrLivArea        0.719981\n",
       "OverallQual      0.790501\n",
       "SalePrice        1.000000\n",
       "Name: SalePrice, dtype: float64"
      ]
     },
     "execution_count": 4,
     "metadata": {},
     "output_type": "execute_result"
    }
   ],
   "source": [
    "correlation = housing.corr()['SalePrice']\n",
    "# corr_matrix['SalePrice']\n",
    "correlation.sort_values()"
   ]
  },
  {
   "cell_type": "markdown",
   "metadata": {},
   "source": [
    "Danny"
   ]
  },
  {
   "cell_type": "code",
   "execution_count": 75,
   "metadata": {},
   "outputs": [
    {
     "data": {
      "text/plain": [
       "Index(['KitchenAbvGr', 'KitchenQual', 'TotRmsAbvGrd', 'Functional',\n",
       "       'Fireplaces', 'FireplaceQu', 'GarageType', 'GarageYrBlt',\n",
       "       'GarageFinish', 'GarageCars', 'GarageArea', 'GarageQual', 'GarageCond',\n",
       "       'PavedDrive', 'WoodDeckSF', 'OpenPorchSF', 'EnclosedPorch', '3SsnPorch',\n",
       "       'ScreenPorch', 'PoolArea', 'PoolQC', 'Fence', 'MiscFeature', 'MiscVal',\n",
       "       'MoSold', 'YrSold', 'SaleType', 'SaleCondition', 'SalePrice'],\n",
       "      dtype='object')"
      ]
     },
     "execution_count": 75,
     "metadata": {},
     "output_type": "execute_result"
    }
   ],
   "source": [
    "housing3 = pd.concat([housing[housing.columns[53:]],housing['SalePrice']],axis=1)\n",
    "housing3.columns"
   ]
  },
  {
   "cell_type": "code",
   "execution_count": 6,
   "metadata": {},
   "outputs": [],
   "source": [
    "housing_features = housing[housing.columns[53:]]\n",
    "housing_features = housing_features.rename(columns= {\"3SsnPorch\":\"X3SsnPorch\"})\n",
    "housing_featuresClass = housing_features[['KitchenQual','Functional','FireplaceQu','GarageType','GarageFinish','GarageQual',\\\n",
    "                                         'GarageCond','PavedDrive','PoolQC','Fence','MiscFeature','SaleType','SaleCondition']]\n",
    "housing_featuresQuan = housing_features[['KitchenAbvGr','TotRmsAbvGrd','Fireplaces','GarageYrBlt','GarageCars','GarageArea',\\\n",
    "                                        'WoodDeckSF','OpenPorchSF','EnclosedPorch','X3SsnPorch','ScreenPorch','PoolArea',\\\n",
    "                                         'MiscVal','MoSold','YrSold']]"
   ]
  },
  {
   "cell_type": "code",
   "execution_count": 59,
   "metadata": {},
   "outputs": [
    {
     "data": {
      "text/plain": [
       "Index(['KitchenAbvGr', 'KitchenQual', 'TotRmsAbvGrd', 'Functional',\n",
       "       'Fireplaces', 'FireplaceQu', 'GarageType', 'GarageYrBlt',\n",
       "       'GarageFinish', 'GarageCars', 'GarageArea', 'GarageQual', 'GarageCond',\n",
       "       'PavedDrive', 'WoodDeckSF', 'OpenPorchSF', 'EnclosedPorch',\n",
       "       'X3SsnPorch', 'ScreenPorch', 'PoolArea', 'PoolQC', 'Fence',\n",
       "       'MiscFeature', 'MiscVal', 'MoSold', 'YrSold', 'SaleType',\n",
       "       'SaleCondition'],\n",
       "      dtype='object')"
      ]
     },
     "execution_count": 59,
     "metadata": {},
     "output_type": "execute_result"
    }
   ],
   "source": [
    "housing_features.columns"
   ]
  },
  {
   "cell_type": "code",
   "execution_count": 7,
   "metadata": {
    "collapsed": true
   },
   "outputs": [
    {
     "name": "stdout",
     "output_type": "stream",
     "text": [
      "TA    1358\n",
      "Gd    1017\n",
      "Ex     142\n",
      "Fa      62\n",
      "Po       1\n",
      "Name: KitchenQual, dtype: int64 False    2580\n",
      "Name: KitchenQual, dtype: int64\n",
      "******************************\n",
      "Typ     2399\n",
      "Min2      66\n",
      "Min1      57\n",
      "Mod       32\n",
      "Maj1      18\n",
      "Maj2       7\n",
      "Sal        1\n",
      "Name: Functional, dtype: int64 False    2580\n",
      "Name: Functional, dtype: int64\n",
      "******************************\n",
      "Gd    619\n",
      "TA    572\n",
      "Fa     70\n",
      "Po     43\n",
      "Ex     35\n",
      "Name: FireplaceQu, dtype: int64 False    1339\n",
      "True     1241\n",
      "Name: FireplaceQu, dtype: int64\n",
      "******************************\n",
      "Attchd     1527\n",
      "Detchd      716\n",
      "BuiltIn     153\n",
      "Basment      27\n",
      "2Types       21\n",
      "CarPort       9\n",
      "Name: GarageType, dtype: int64 False    2453\n",
      "True      127\n",
      "Name: GarageType, dtype: int64\n",
      "******************************\n",
      "Unf    1112\n",
      "RFn     718\n",
      "Fin     621\n",
      "Name: GarageFinish, dtype: int64 False    2451\n",
      "True      129\n",
      "Name: GarageFinish, dtype: int64\n",
      "******************************\n",
      "TA    2312\n",
      "Fa     110\n",
      "Gd      22\n",
      "Po       4\n",
      "Ex       3\n",
      "Name: GarageQual, dtype: int64 False    2451\n",
      "True      129\n",
      "Name: GarageQual, dtype: int64\n",
      "******************************\n",
      "TA    2356\n",
      "Fa      67\n",
      "Gd      14\n",
      "Po      11\n",
      "Ex       3\n",
      "Name: GarageCond, dtype: int64 False    2451\n",
      "True      129\n",
      "Name: GarageCond, dtype: int64\n",
      "******************************\n",
      "Y    2336\n",
      "N     184\n",
      "P      60\n",
      "Name: PavedDrive, dtype: int64 False    2580\n",
      "Name: PavedDrive, dtype: int64\n",
      "******************************\n",
      "TA    3\n",
      "Ex    2\n",
      "Fa    2\n",
      "Gd    2\n",
      "Name: PoolQC, dtype: int64 True     2571\n",
      "False       9\n",
      "Name: PoolQC, dtype: int64\n",
      "******************************\n",
      "MnPrv    301\n",
      "GdPrv    111\n",
      "GdWo     103\n",
      "MnWw      10\n",
      "Name: Fence, dtype: int64 True     2055\n",
      "False     525\n",
      "Name: Fence, dtype: int64\n",
      "******************************\n",
      "Shed    88\n",
      "Gar2     5\n",
      "Othr     3\n",
      "TenC     1\n",
      "Name: MiscFeature, dtype: int64 True     2483\n",
      "False      97\n",
      "Name: MiscFeature, dtype: int64\n",
      "******************************\n",
      "WD       2392\n",
      "New        79\n",
      "COD        50\n",
      "ConLD      23\n",
      "CWD        11\n",
      "ConLw       8\n",
      "ConLI       7\n",
      "Con         5\n",
      "Oth         4\n",
      "VWD         1\n",
      "Name: SaleType, dtype: int64 False    2580\n",
      "Name: SaleType, dtype: int64\n",
      "******************************\n",
      "Normal     2414\n",
      "Partial      82\n",
      "Abnorml      61\n",
      "Family       17\n",
      "Alloca        4\n",
      "AdjLand       2\n",
      "Name: SaleCondition, dtype: int64 False    2580\n",
      "Name: SaleCondition, dtype: int64\n",
      "******************************\n"
     ]
    }
   ],
   "source": [
    "for feature1 in housing_featuresClass.columns:\n",
    "    print(housing3[feature1].value_counts(), housing_featuresClass[feature1].isnull().value_counts())\n",
    "    print('*'*30)"
   ]
  },
  {
   "cell_type": "code",
   "execution_count": 8,
   "metadata": {
    "collapsed": true
   },
   "outputs": [
    {
     "name": "stdout",
     "output_type": "stream",
     "text": [
      "False    2580\n",
      "Name: KitchenAbvGr, dtype: int64\n",
      "******************************\n",
      "False    2580\n",
      "Name: TotRmsAbvGrd, dtype: int64\n",
      "******************************\n",
      "False    2580\n",
      "Name: Fireplaces, dtype: int64\n",
      "******************************\n",
      "False    2451\n",
      "True      129\n",
      "Name: GarageYrBlt, dtype: int64\n",
      "******************************\n",
      "False    2579\n",
      "True        1\n",
      "Name: GarageCars, dtype: int64\n",
      "******************************\n",
      "False    2579\n",
      "True        1\n",
      "Name: GarageArea, dtype: int64\n",
      "******************************\n",
      "False    2580\n",
      "Name: WoodDeckSF, dtype: int64\n",
      "******************************\n",
      "False    2580\n",
      "Name: OpenPorchSF, dtype: int64\n",
      "******************************\n",
      "False    2580\n",
      "Name: EnclosedPorch, dtype: int64\n",
      "******************************\n",
      "False    2580\n",
      "Name: X3SsnPorch, dtype: int64\n",
      "******************************\n",
      "False    2580\n",
      "Name: ScreenPorch, dtype: int64\n",
      "******************************\n",
      "False    2580\n",
      "Name: PoolArea, dtype: int64\n",
      "******************************\n",
      "False    2580\n",
      "Name: MiscVal, dtype: int64\n",
      "******************************\n",
      "False    2580\n",
      "Name: MoSold, dtype: int64\n",
      "******************************\n",
      "False    2580\n",
      "Name: YrSold, dtype: int64\n",
      "******************************\n"
     ]
    }
   ],
   "source": [
    "for feature2 in housing_featuresQuan.columns:\n",
    "    print(housing_featuresQuan[feature2].isnull().value_counts())\n",
    "    print('*'*30)"
   ]
  },
  {
   "cell_type": "code",
   "execution_count": 13,
   "metadata": {
    "scrolled": true
   },
   "outputs": [
    {
     "data": {
      "text/plain": [
       "0    1241\n",
       "1    1132\n",
       "2     195\n",
       "3      11\n",
       "4       1\n",
       "Name: Fireplaces, dtype: int64"
      ]
     },
     "execution_count": 13,
     "metadata": {},
     "output_type": "execute_result"
    }
   ],
   "source": [
    "housing3['Fireplaces'].value_counts()"
   ]
  },
  {
   "cell_type": "code",
   "execution_count": 19,
   "metadata": {},
   "outputs": [],
   "source": [
    "housing3['FireplaceQu'] = housing3['FireplaceQu'].fillna('None')"
   ]
  },
  {
   "cell_type": "code",
   "execution_count": 84,
   "metadata": {},
   "outputs": [],
   "source": [
    "# Impute None to Nan value in columns\n",
    "impute_feature = housing3[['FireplaceQu','GarageType','GarageYrBlt','GarageFinish','GarageQual','GarageCond']]\n",
    "for feature in impute_feature.columns:\n",
    "    housing3[feature] = housing3[feature].fillna('None')"
   ]
  },
  {
   "cell_type": "code",
   "execution_count": 33,
   "metadata": {},
   "outputs": [
    {
     "data": {
      "text/plain": [
       "Attchd     1527\n",
       "Detchd      716\n",
       "BuiltIn     153\n",
       "None        127\n",
       "Basment      27\n",
       "2Types       21\n",
       "CarPort       9\n",
       "Name: GarageType, dtype: int64"
      ]
     },
     "execution_count": 33,
     "metadata": {},
     "output_type": "execute_result"
    }
   ],
   "source": [
    "# housing3['GarageType'].value_counts()"
   ]
  },
  {
   "cell_type": "code",
   "execution_count": 85,
   "metadata": {},
   "outputs": [
    {
     "data": {
      "text/html": [
       "<div>\n",
       "<style scoped>\n",
       "    .dataframe tbody tr th:only-of-type {\n",
       "        vertical-align: middle;\n",
       "    }\n",
       "\n",
       "    .dataframe tbody tr th {\n",
       "        vertical-align: top;\n",
       "    }\n",
       "\n",
       "    .dataframe thead th {\n",
       "        text-align: right;\n",
       "    }\n",
       "</style>\n",
       "<table border=\"1\" class=\"dataframe\">\n",
       "  <thead>\n",
       "    <tr style=\"text-align: right;\">\n",
       "      <th></th>\n",
       "    </tr>\n",
       "  </thead>\n",
       "  <tbody>\n",
       "    <tr>\n",
       "      <th>KitchenAbvGr</th>\n",
       "    </tr>\n",
       "    <tr>\n",
       "      <th>KitchenQual</th>\n",
       "    </tr>\n",
       "    <tr>\n",
       "      <th>TotRmsAbvGrd</th>\n",
       "    </tr>\n",
       "    <tr>\n",
       "      <th>Functional</th>\n",
       "    </tr>\n",
       "    <tr>\n",
       "      <th>Fireplaces</th>\n",
       "    </tr>\n",
       "    <tr>\n",
       "      <th>FireplaceQu</th>\n",
       "    </tr>\n",
       "    <tr>\n",
       "      <th>GarageType</th>\n",
       "    </tr>\n",
       "    <tr>\n",
       "      <th>GarageYrBlt</th>\n",
       "    </tr>\n",
       "    <tr>\n",
       "      <th>GarageFinish</th>\n",
       "    </tr>\n",
       "    <tr>\n",
       "      <th>GarageCars</th>\n",
       "    </tr>\n",
       "    <tr>\n",
       "      <th>GarageArea</th>\n",
       "    </tr>\n",
       "    <tr>\n",
       "      <th>GarageQual</th>\n",
       "    </tr>\n",
       "    <tr>\n",
       "      <th>GarageCond</th>\n",
       "    </tr>\n",
       "    <tr>\n",
       "      <th>PavedDrive</th>\n",
       "    </tr>\n",
       "    <tr>\n",
       "      <th>WoodDeckSF</th>\n",
       "    </tr>\n",
       "    <tr>\n",
       "      <th>OpenPorchSF</th>\n",
       "    </tr>\n",
       "    <tr>\n",
       "      <th>EnclosedPorch</th>\n",
       "    </tr>\n",
       "    <tr>\n",
       "      <th>3SsnPorch</th>\n",
       "    </tr>\n",
       "    <tr>\n",
       "      <th>ScreenPorch</th>\n",
       "    </tr>\n",
       "    <tr>\n",
       "      <th>PoolArea</th>\n",
       "    </tr>\n",
       "    <tr>\n",
       "      <th>PoolQC</th>\n",
       "    </tr>\n",
       "    <tr>\n",
       "      <th>Fence</th>\n",
       "    </tr>\n",
       "    <tr>\n",
       "      <th>MiscFeature</th>\n",
       "    </tr>\n",
       "    <tr>\n",
       "      <th>MiscVal</th>\n",
       "    </tr>\n",
       "    <tr>\n",
       "      <th>MoSold</th>\n",
       "    </tr>\n",
       "    <tr>\n",
       "      <th>YrSold</th>\n",
       "    </tr>\n",
       "    <tr>\n",
       "      <th>SaleType</th>\n",
       "    </tr>\n",
       "    <tr>\n",
       "      <th>SaleCondition</th>\n",
       "    </tr>\n",
       "    <tr>\n",
       "      <th>SalePrice</th>\n",
       "    </tr>\n",
       "  </tbody>\n",
       "</table>\n",
       "</div>"
      ],
      "text/plain": [
       "Empty DataFrame\n",
       "Columns: []\n",
       "Index: [KitchenAbvGr, KitchenQual, TotRmsAbvGrd, Functional, Fireplaces, FireplaceQu, GarageType, GarageYrBlt, GarageFinish, GarageCars, GarageArea, GarageQual, GarageCond, PavedDrive, WoodDeckSF, OpenPorchSF, EnclosedPorch, 3SsnPorch, ScreenPorch, PoolArea, PoolQC, Fence, MiscFeature, MiscVal, MoSold, YrSold, SaleType, SaleCondition, SalePrice]"
      ]
     },
     "execution_count": 85,
     "metadata": {},
     "output_type": "execute_result"
    }
   ],
   "source": [
    "housing3[housing3['GarageType'].isnull() == True].T"
   ]
  },
  {
   "cell_type": "code",
   "execution_count": 88,
   "metadata": {},
   "outputs": [
    {
     "data": {
      "text/plain": [
       "Index(['KitchenAbvGr', 'KitchenQual', 'TotRmsAbvGrd', 'Functional',\n",
       "       'Fireplaces', 'FireplaceQu', 'GarageType', 'GarageYrBlt',\n",
       "       'GarageFinish', 'GarageCars', 'GarageArea', 'GarageQual', 'GarageCond',\n",
       "       'PavedDrive', 'WoodDeckSF', 'OpenPorchSF', 'EnclosedPorch', '3SsnPorch',\n",
       "       'ScreenPorch', 'PoolArea', 'PoolQC', 'Fence', 'MiscFeature', 'MiscVal',\n",
       "       'MoSold', 'YrSold', 'SaleType', 'SaleCondition', 'SalePrice'],\n",
       "      dtype='object')"
      ]
     },
     "execution_count": 88,
     "metadata": {},
     "output_type": "execute_result"
    }
   ],
   "source": [
    "# Drop the Nan from GarageCars column (1 observation)\n",
    "housing3.drop(housing3[housing3['GarageCars'].isnull() == True].index,inplace=True)\n",
    "housing3.columns"
   ]
  },
  {
   "cell_type": "code",
   "execution_count": 87,
   "metadata": {
    "scrolled": true
   },
   "outputs": [
    {
     "data": {
      "text/plain": [
       "KitchenAbvGr        0\n",
       "KitchenQual         0\n",
       "TotRmsAbvGrd        0\n",
       "Functional          0\n",
       "Fireplaces          0\n",
       "FireplaceQu         0\n",
       "GarageType          0\n",
       "GarageYrBlt         0\n",
       "GarageFinish        0\n",
       "GarageCars          0\n",
       "GarageArea          0\n",
       "GarageQual          0\n",
       "GarageCond          0\n",
       "PavedDrive          0\n",
       "WoodDeckSF          0\n",
       "OpenPorchSF         0\n",
       "EnclosedPorch       0\n",
       "3SsnPorch           0\n",
       "ScreenPorch         0\n",
       "PoolArea            0\n",
       "PoolQC           2568\n",
       "Fence            2053\n",
       "MiscFeature      2480\n",
       "MiscVal             0\n",
       "MoSold              0\n",
       "YrSold              0\n",
       "SaleType            0\n",
       "SaleCondition       0\n",
       "SalePrice           0\n",
       "dtype: int64"
      ]
     },
     "execution_count": 87,
     "metadata": {},
     "output_type": "execute_result"
    }
   ],
   "source": [
    "housing3.isnull().sum()"
   ]
  },
  {
   "cell_type": "code",
   "execution_count": 96,
   "metadata": {},
   "outputs": [
    {
     "data": {
      "text/plain": [
       "0"
      ]
     },
     "execution_count": 96,
     "metadata": {},
     "output_type": "execute_result"
    }
   ],
   "source": [
    "X.isnull().sum().sum()"
   ]
  },
  {
   "cell_type": "markdown",
   "metadata": {},
   "source": [
    "#### PoolArea, PoolQC, Fence, MiscFeature, MiscVal will be drop due to too many missing value"
   ]
  },
  {
   "cell_type": "code",
   "execution_count": 89,
   "metadata": {},
   "outputs": [
    {
     "data": {
      "text/plain": [
       "23"
      ]
     },
     "execution_count": 89,
     "metadata": {},
     "output_type": "execute_result"
    }
   ],
   "source": [
    "housing_features2 = housing3.drop(['PoolArea','PoolQC','Fence','MiscFeature','MiscVal','SalePrice'],axis=1)\n",
    "len(housing_features2.columns)"
   ]
  },
  {
   "cell_type": "code",
   "execution_count": 99,
   "metadata": {
    "scrolled": true
   },
   "outputs": [
    {
     "data": {
      "text/plain": [
       "(2577,)"
      ]
     },
     "execution_count": 99,
     "metadata": {},
     "output_type": "execute_result"
    }
   ],
   "source": [
    "X = pd.get_dummies(housing_features2, drop_first=False, dummy_na=True)\n",
    "price = housing3['SalePrice']\n",
    "price.shape"
   ]
  },
  {
   "cell_type": "code",
   "execution_count": 80,
   "metadata": {},
   "outputs": [
    {
     "data": {
      "text/html": [
       "<div>\n",
       "<style scoped>\n",
       "    .dataframe tbody tr th:only-of-type {\n",
       "        vertical-align: middle;\n",
       "    }\n",
       "\n",
       "    .dataframe tbody tr th {\n",
       "        vertical-align: top;\n",
       "    }\n",
       "\n",
       "    .dataframe thead th {\n",
       "        text-align: right;\n",
       "    }\n",
       "</style>\n",
       "<table border=\"1\" class=\"dataframe\">\n",
       "  <thead>\n",
       "    <tr style=\"text-align: right;\">\n",
       "      <th></th>\n",
       "      <th>index</th>\n",
       "      <th>KitchenAbvGr</th>\n",
       "      <th>TotRmsAbvGrd</th>\n",
       "      <th>Fireplaces</th>\n",
       "      <th>GarageYrBlt</th>\n",
       "      <th>GarageCars</th>\n",
       "      <th>GarageArea</th>\n",
       "      <th>WoodDeckSF</th>\n",
       "      <th>OpenPorchSF</th>\n",
       "      <th>EnclosedPorch</th>\n",
       "      <th>...</th>\n",
       "      <th>SaleType_VWD</th>\n",
       "      <th>SaleType_WD</th>\n",
       "      <th>SaleType_nan</th>\n",
       "      <th>SaleCondition_Abnorml</th>\n",
       "      <th>SaleCondition_AdjLand</th>\n",
       "      <th>SaleCondition_Alloca</th>\n",
       "      <th>SaleCondition_Family</th>\n",
       "      <th>SaleCondition_Normal</th>\n",
       "      <th>SaleCondition_Partial</th>\n",
       "      <th>SaleCondition_nan</th>\n",
       "    </tr>\n",
       "  </thead>\n",
       "  <tbody>\n",
       "    <tr>\n",
       "      <th>0</th>\n",
       "      <td>1</td>\n",
       "      <td>1</td>\n",
       "      <td>4</td>\n",
       "      <td>1</td>\n",
       "      <td>1939.0</td>\n",
       "      <td>2.0</td>\n",
       "      <td>399.0</td>\n",
       "      <td>0</td>\n",
       "      <td>0</td>\n",
       "      <td>0</td>\n",
       "      <td>...</td>\n",
       "      <td>0</td>\n",
       "      <td>1</td>\n",
       "      <td>0</td>\n",
       "      <td>0</td>\n",
       "      <td>0</td>\n",
       "      <td>0</td>\n",
       "      <td>0</td>\n",
       "      <td>1</td>\n",
       "      <td>0</td>\n",
       "      <td>0</td>\n",
       "    </tr>\n",
       "    <tr>\n",
       "      <th>1</th>\n",
       "      <td>2</td>\n",
       "      <td>1</td>\n",
       "      <td>5</td>\n",
       "      <td>0</td>\n",
       "      <td>1984.0</td>\n",
       "      <td>1.0</td>\n",
       "      <td>266.0</td>\n",
       "      <td>0</td>\n",
       "      <td>105</td>\n",
       "      <td>0</td>\n",
       "      <td>...</td>\n",
       "      <td>0</td>\n",
       "      <td>1</td>\n",
       "      <td>0</td>\n",
       "      <td>0</td>\n",
       "      <td>0</td>\n",
       "      <td>0</td>\n",
       "      <td>0</td>\n",
       "      <td>1</td>\n",
       "      <td>0</td>\n",
       "      <td>0</td>\n",
       "    </tr>\n",
       "    <tr>\n",
       "      <th>2</th>\n",
       "      <td>3</td>\n",
       "      <td>1</td>\n",
       "      <td>5</td>\n",
       "      <td>0</td>\n",
       "      <td>1930.0</td>\n",
       "      <td>1.0</td>\n",
       "      <td>216.0</td>\n",
       "      <td>154</td>\n",
       "      <td>0</td>\n",
       "      <td>42</td>\n",
       "      <td>...</td>\n",
       "      <td>0</td>\n",
       "      <td>1</td>\n",
       "      <td>0</td>\n",
       "      <td>0</td>\n",
       "      <td>0</td>\n",
       "      <td>0</td>\n",
       "      <td>0</td>\n",
       "      <td>1</td>\n",
       "      <td>0</td>\n",
       "      <td>0</td>\n",
       "    </tr>\n",
       "    <tr>\n",
       "      <th>3</th>\n",
       "      <td>4</td>\n",
       "      <td>1</td>\n",
       "      <td>6</td>\n",
       "      <td>0</td>\n",
       "      <td>1940.0</td>\n",
       "      <td>1.0</td>\n",
       "      <td>281.0</td>\n",
       "      <td>0</td>\n",
       "      <td>0</td>\n",
       "      <td>168</td>\n",
       "      <td>...</td>\n",
       "      <td>0</td>\n",
       "      <td>1</td>\n",
       "      <td>0</td>\n",
       "      <td>0</td>\n",
       "      <td>0</td>\n",
       "      <td>0</td>\n",
       "      <td>0</td>\n",
       "      <td>1</td>\n",
       "      <td>0</td>\n",
       "      <td>0</td>\n",
       "    </tr>\n",
       "    <tr>\n",
       "      <th>4</th>\n",
       "      <td>5</td>\n",
       "      <td>1</td>\n",
       "      <td>6</td>\n",
       "      <td>0</td>\n",
       "      <td>2001.0</td>\n",
       "      <td>2.0</td>\n",
       "      <td>528.0</td>\n",
       "      <td>0</td>\n",
       "      <td>45</td>\n",
       "      <td>0</td>\n",
       "      <td>...</td>\n",
       "      <td>0</td>\n",
       "      <td>1</td>\n",
       "      <td>0</td>\n",
       "      <td>0</td>\n",
       "      <td>0</td>\n",
       "      <td>0</td>\n",
       "      <td>0</td>\n",
       "      <td>1</td>\n",
       "      <td>0</td>\n",
       "      <td>0</td>\n",
       "    </tr>\n",
       "    <tr>\n",
       "      <th>...</th>\n",
       "      <td>...</td>\n",
       "      <td>...</td>\n",
       "      <td>...</td>\n",
       "      <td>...</td>\n",
       "      <td>...</td>\n",
       "      <td>...</td>\n",
       "      <td>...</td>\n",
       "      <td>...</td>\n",
       "      <td>...</td>\n",
       "      <td>...</td>\n",
       "      <td>...</td>\n",
       "      <td>...</td>\n",
       "      <td>...</td>\n",
       "      <td>...</td>\n",
       "      <td>...</td>\n",
       "      <td>...</td>\n",
       "      <td>...</td>\n",
       "      <td>...</td>\n",
       "      <td>...</td>\n",
       "      <td>...</td>\n",
       "      <td>...</td>\n",
       "    </tr>\n",
       "    <tr>\n",
       "      <th>2575</th>\n",
       "      <td>759</td>\n",
       "      <td>1</td>\n",
       "      <td>4</td>\n",
       "      <td>1</td>\n",
       "      <td>1916.0</td>\n",
       "      <td>1.0</td>\n",
       "      <td>192.0</td>\n",
       "      <td>0</td>\n",
       "      <td>98</td>\n",
       "      <td>0</td>\n",
       "      <td>...</td>\n",
       "      <td>0</td>\n",
       "      <td>1</td>\n",
       "      <td>0</td>\n",
       "      <td>0</td>\n",
       "      <td>0</td>\n",
       "      <td>0</td>\n",
       "      <td>0</td>\n",
       "      <td>1</td>\n",
       "      <td>0</td>\n",
       "      <td>0</td>\n",
       "    </tr>\n",
       "    <tr>\n",
       "      <th>2576</th>\n",
       "      <td>760</td>\n",
       "      <td>1</td>\n",
       "      <td>8</td>\n",
       "      <td>1</td>\n",
       "      <td>1955.0</td>\n",
       "      <td>2.0</td>\n",
       "      <td>452.0</td>\n",
       "      <td>0</td>\n",
       "      <td>0</td>\n",
       "      <td>0</td>\n",
       "      <td>...</td>\n",
       "      <td>0</td>\n",
       "      <td>1</td>\n",
       "      <td>0</td>\n",
       "      <td>0</td>\n",
       "      <td>0</td>\n",
       "      <td>0</td>\n",
       "      <td>0</td>\n",
       "      <td>1</td>\n",
       "      <td>0</td>\n",
       "      <td>0</td>\n",
       "    </tr>\n",
       "    <tr>\n",
       "      <th>2577</th>\n",
       "      <td>761</td>\n",
       "      <td>2</td>\n",
       "      <td>8</td>\n",
       "      <td>0</td>\n",
       "      <td>1949.0</td>\n",
       "      <td>3.0</td>\n",
       "      <td>871.0</td>\n",
       "      <td>0</td>\n",
       "      <td>0</td>\n",
       "      <td>0</td>\n",
       "      <td>...</td>\n",
       "      <td>0</td>\n",
       "      <td>1</td>\n",
       "      <td>0</td>\n",
       "      <td>0</td>\n",
       "      <td>0</td>\n",
       "      <td>0</td>\n",
       "      <td>0</td>\n",
       "      <td>1</td>\n",
       "      <td>0</td>\n",
       "      <td>0</td>\n",
       "    </tr>\n",
       "    <tr>\n",
       "      <th>2578</th>\n",
       "      <td>762</td>\n",
       "      <td>1</td>\n",
       "      <td>7</td>\n",
       "      <td>1</td>\n",
       "      <td>2000.0</td>\n",
       "      <td>2.0</td>\n",
       "      <td>486.0</td>\n",
       "      <td>193</td>\n",
       "      <td>96</td>\n",
       "      <td>0</td>\n",
       "      <td>...</td>\n",
       "      <td>0</td>\n",
       "      <td>1</td>\n",
       "      <td>0</td>\n",
       "      <td>0</td>\n",
       "      <td>0</td>\n",
       "      <td>0</td>\n",
       "      <td>0</td>\n",
       "      <td>1</td>\n",
       "      <td>0</td>\n",
       "      <td>0</td>\n",
       "    </tr>\n",
       "    <tr>\n",
       "      <th>2579</th>\n",
       "      <td>763</td>\n",
       "      <td>1</td>\n",
       "      <td>8</td>\n",
       "      <td>1</td>\n",
       "      <td>1993.0</td>\n",
       "      <td>2.0</td>\n",
       "      <td>471.0</td>\n",
       "      <td>182</td>\n",
       "      <td>81</td>\n",
       "      <td>0</td>\n",
       "      <td>...</td>\n",
       "      <td>0</td>\n",
       "      <td>1</td>\n",
       "      <td>0</td>\n",
       "      <td>0</td>\n",
       "      <td>0</td>\n",
       "      <td>0</td>\n",
       "      <td>0</td>\n",
       "      <td>1</td>\n",
       "      <td>0</td>\n",
       "      <td>0</td>\n",
       "    </tr>\n",
       "  </tbody>\n",
       "</table>\n",
       "<p>2580 rows × 79 columns</p>\n",
       "</div>"
      ],
      "text/plain": [
       "      index  KitchenAbvGr  TotRmsAbvGrd  Fireplaces  GarageYrBlt  GarageCars  \\\n",
       "0         1             1             4           1       1939.0         2.0   \n",
       "1         2             1             5           0       1984.0         1.0   \n",
       "2         3             1             5           0       1930.0         1.0   \n",
       "3         4             1             6           0       1940.0         1.0   \n",
       "4         5             1             6           0       2001.0         2.0   \n",
       "...     ...           ...           ...         ...          ...         ...   \n",
       "2575    759             1             4           1       1916.0         1.0   \n",
       "2576    760             1             8           1       1955.0         2.0   \n",
       "2577    761             2             8           0       1949.0         3.0   \n",
       "2578    762             1             7           1       2000.0         2.0   \n",
       "2579    763             1             8           1       1993.0         2.0   \n",
       "\n",
       "      GarageArea  WoodDeckSF  OpenPorchSF  EnclosedPorch  ...  SaleType_VWD  \\\n",
       "0          399.0           0            0              0  ...             0   \n",
       "1          266.0           0          105              0  ...             0   \n",
       "2          216.0         154            0             42  ...             0   \n",
       "3          281.0           0            0            168  ...             0   \n",
       "4          528.0           0           45              0  ...             0   \n",
       "...          ...         ...          ...            ...  ...           ...   \n",
       "2575       192.0           0           98              0  ...             0   \n",
       "2576       452.0           0            0              0  ...             0   \n",
       "2577       871.0           0            0              0  ...             0   \n",
       "2578       486.0         193           96              0  ...             0   \n",
       "2579       471.0         182           81              0  ...             0   \n",
       "\n",
       "      SaleType_WD   SaleType_nan  SaleCondition_Abnorml  \\\n",
       "0                1             0                      0   \n",
       "1                1             0                      0   \n",
       "2                1             0                      0   \n",
       "3                1             0                      0   \n",
       "4                1             0                      0   \n",
       "...            ...           ...                    ...   \n",
       "2575             1             0                      0   \n",
       "2576             1             0                      0   \n",
       "2577             1             0                      0   \n",
       "2578             1             0                      0   \n",
       "2579             1             0                      0   \n",
       "\n",
       "      SaleCondition_AdjLand  SaleCondition_Alloca  SaleCondition_Family  \\\n",
       "0                         0                     0                     0   \n",
       "1                         0                     0                     0   \n",
       "2                         0                     0                     0   \n",
       "3                         0                     0                     0   \n",
       "4                         0                     0                     0   \n",
       "...                     ...                   ...                   ...   \n",
       "2575                      0                     0                     0   \n",
       "2576                      0                     0                     0   \n",
       "2577                      0                     0                     0   \n",
       "2578                      0                     0                     0   \n",
       "2579                      0                     0                     0   \n",
       "\n",
       "      SaleCondition_Normal  SaleCondition_Partial  SaleCondition_nan  \n",
       "0                        1                      0                  0  \n",
       "1                        1                      0                  0  \n",
       "2                        1                      0                  0  \n",
       "3                        1                      0                  0  \n",
       "4                        1                      0                  0  \n",
       "...                    ...                    ...                ...  \n",
       "2575                     1                      0                  0  \n",
       "2576                     1                      0                  0  \n",
       "2577                     1                      0                  0  \n",
       "2578                     1                      0                  0  \n",
       "2579                     1                      0                  0  \n",
       "\n",
       "[2580 rows x 79 columns]"
      ]
     },
     "execution_count": 80,
     "metadata": {},
     "output_type": "execute_result"
    }
   ],
   "source": [
    "X.reset_index()"
   ]
  },
  {
   "cell_type": "code",
   "execution_count": 103,
   "metadata": {
    "scrolled": true
   },
   "outputs": [
    {
     "data": {
      "text/plain": [
       "0.7938900509000838"
      ]
     },
     "execution_count": 103,
     "metadata": {},
     "output_type": "execute_result"
    }
   ],
   "source": [
    "lin_reg = LinearRegression().fit(X,price)\n",
    "lin_reg.score(X,price)"
   ]
  },
  {
   "cell_type": "code",
   "execution_count": 114,
   "metadata": {},
   "outputs": [
    {
     "data": {
      "text/plain": [
       "0.9999886178627502"
      ]
     },
     "execution_count": 114,
     "metadata": {},
     "output_type": "execute_result"
    }
   ],
   "source": [
    "tree_reg = DecisionTreeRegressor().fit(X,price)\n",
    "tree_reg.score(X,price)"
   ]
  },
  {
   "cell_type": "code",
   "execution_count": 115,
   "metadata": {},
   "outputs": [
    {
     "data": {
      "text/plain": [
       "0.9695221483370355"
      ]
     },
     "execution_count": 115,
     "metadata": {},
     "output_type": "execute_result"
    }
   ],
   "source": [
    "forest_reg = RandomForestRegressor().fit(X,price)\n",
    "forest_reg.score(X,price)"
   ]
  },
  {
   "cell_type": "code",
   "execution_count": null,
   "metadata": {},
   "outputs": [],
   "source": []
  }
 ],
 "metadata": {
  "kernelspec": {
   "display_name": "Python 3",
   "language": "python",
   "name": "python3"
  },
  "language_info": {
   "codemirror_mode": {
    "name": "ipython",
    "version": 3
   },
   "file_extension": ".py",
   "mimetype": "text/x-python",
   "name": "python",
   "nbconvert_exporter": "python",
   "pygments_lexer": "ipython3",
   "version": "3.7.6"
  }
 },
 "nbformat": 4,
 "nbformat_minor": 4
}
